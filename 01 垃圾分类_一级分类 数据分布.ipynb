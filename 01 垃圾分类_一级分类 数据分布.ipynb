{
 "cells": [
  {
   "cell_type": "markdown",
   "metadata": {},
   "source": [
    "# 数据分析概括\n",
    "\n",
    "讲师：沈福利  北京工业大学硕士学位\n",
    "\n",
    "主要目录\n",
    "\n",
    "* 整体数据探测\n",
    "* 分析数据不同类别分布\n",
    "* 分析图片长宽比例分布\n",
    "* 切分数据集和验证集\n",
    "\n",
    "通过本章节学习，大家可以掌握如下知识点 \n",
    "\n",
    "* 掌握 pyecharts ，seaborn 如何快速绘制图表；\n",
    "\n",
    "* 加深python 基本操作，如类似list 列表推导式，dict 类型数据排序，walk 文件遍历操作，glob 文件匹配处理\n",
    "\n",
    "另外：如果大家对python 可视化图表不太熟悉的同学，大家可以学习老师 所讲的课程\n",
    "\n",
    "《Python 数据可视化库 Seaborn》  \n",
    "《Python 数据可视化 pyecharts 实战》\n"
   ]
  },
  {
   "cell_type": "markdown",
   "metadata": {},
   "source": [
    "# 二级分类数据转一级分类数据"
   ]
  },
  {
   "cell_type": "code",
   "execution_count": 1,
   "metadata": {},
   "outputs": [
    {
     "name": "stdout",
     "output_type": "stream",
     "text": [
      "{0: 0, 1: 0, 2: 0, 3: 0, 4: 0, 5: 0, 6: 1, 7: 1, 8: 1, 9: 1, 10: 1, 11: 1, 12: 1, 13: 1, 14: 2, 15: 2, 16: 2, 17: 2, 18: 2, 19: 2, 20: 2, 21: 2, 22: 2, 23: 2, 24: 2, 25: 2, 26: 2, 27: 2, 28: 2, 29: 2, 30: 2, 31: 2, 32: 2, 33: 2, 34: 2, 35: 2, 36: 2, 37: 3, 38: 3, 39: 3}\n"
     ]
    }
   ],
   "source": [
    "garbage_classify_rule = {\n",
    "    \"0\": \"其他垃圾/一次性快餐盒\",\n",
    "    \"1\": \"其他垃圾/污损塑料\",\n",
    "    \"2\": \"其他垃圾/烟蒂\",\n",
    "    \"3\": \"其他垃圾/牙签\",\n",
    "    \"4\": \"其他垃圾/破碎花盆及碟碗\",\n",
    "    \"5\": \"其他垃圾/竹筷\",\n",
    "    \"6\": \"厨余垃圾/剩饭剩菜\",\n",
    "    \"7\": \"厨余垃圾/大骨头\",\n",
    "    \"8\": \"厨余垃圾/水果果皮\",\n",
    "    \"9\": \"厨余垃圾/水果果肉\",\n",
    "    \"10\": \"厨余垃圾/茶叶渣\",\n",
    "    \"11\": \"厨余垃圾/菜叶菜根\",\n",
    "    \"12\": \"厨余垃圾/蛋壳\",\n",
    "    \"13\": \"厨余垃圾/鱼骨\",\n",
    "    \"14\": \"可回收物/充电宝\",\n",
    "    \"15\": \"可回收物/包\",\n",
    "    \"16\": \"可回收物/化妆品瓶\",\n",
    "    \"17\": \"可回收物/塑料玩具\",\n",
    "    \"18\": \"可回收物/塑料碗盆\",\n",
    "    \"19\": \"可回收物/塑料衣架\",\n",
    "    \"20\": \"可回收物/快递纸袋\",\n",
    "    \"21\": \"可回收物/插头电线\",\n",
    "    \"22\": \"可回收物/旧衣服\",\n",
    "    \"23\": \"可回收物/易拉罐\",\n",
    "    \"24\": \"可回收物/枕头\",\n",
    "    \"25\": \"可回收物/毛绒玩具\",\n",
    "    \"26\": \"可回收物/洗发水瓶\",\n",
    "    \"27\": \"可回收物/玻璃杯\",\n",
    "    \"28\": \"可回收物/皮鞋\",\n",
    "    \"29\": \"可回收物/砧板\",\n",
    "    \"30\": \"可回收物/纸板箱\",\n",
    "    \"31\": \"可回收物/调料瓶\",\n",
    "    \"32\": \"可回收物/酒瓶\",\n",
    "    \"33\": \"可回收物/金属食品罐\",\n",
    "    \"34\": \"可回收物/锅\",\n",
    "    \"35\": \"可回收物/食用油桶\",\n",
    "    \"36\": \"可回收物/饮料瓶\",\n",
    "    \"37\": \"有害垃圾/干电池\",\n",
    "    \"38\": \"有害垃圾/软膏\",\n",
    "    \"39\": \"有害垃圾/过期药物\"\n",
    "}\n",
    "\n",
    "garbage_classify_index = {\"0\": \"其他垃圾\", \"1\": \"厨余垃圾\", \"2\": \"可回收物\", \"3\": \"有害垃圾\"}\n",
    "garbage_index_classify = {\"其他垃圾\":\"0\",\"厨余垃圾\":\"1\", \"可回收物\":\"2\",\"有害垃圾\":\"3\"}\n",
    "\n",
    "data_list = []\n",
    "rank1_garbage_classify_rule = {}\n",
    "for k,v in garbage_classify_rule.items():\n",
    "    rank1_k = v.split('/')[0] \n",
    "    rank1_v = k\n",
    "    data_list.append([rank1_k,int(garbage_index_classify[rank1_k]),int(rank1_v)])\n",
    "    \n",
    "# 获取一级分类label 对应的原始数据label \n",
    "rank_k_v_dict = {}\n",
    "for data in data_list:\n",
    "    k = data[2] # 原标签\n",
    "    v = data[1]# 新标签\n",
    "    rank_k_v_dict[k]=v\n",
    "print(rank_k_v_dict)"
   ]
  },
  {
   "cell_type": "markdown",
   "metadata": {},
   "source": [
    "k_vlist_dict 就是一级分类需要处理的结果"
   ]
  },
  {
   "cell_type": "markdown",
   "metadata": {},
   "source": [
    "## 整体数据探测"
   ]
  },
  {
   "cell_type": "code",
   "execution_count": 2,
   "metadata": {},
   "outputs": [
    {
     "name": "stdout",
     "output_type": "stream",
     "text": [
      "************************************************************\n",
      "Directory path:  ../data/garbage_classify/train_data\n",
      "total examples:  29605\n",
      "File name Example:  ['.DS_Store', 'img_1.jpg', 'img_1.txt', 'img_10.jpg', 'img_10.txt']\n"
     ]
    }
   ],
   "source": [
    "import os\n",
    "from os import walk\n",
    "\n",
    "base_path = '../data/'\n",
    "data_path = os.path.join(base_path,'garbage_classify/train_data')\n",
    "for (dirpath, dirnames, filenames) in walk(data_path):\n",
    "    if len(filenames)>0:\n",
    "        print('*'*60)\n",
    "        print(\"Directory path: \", dirpath)\n",
    "        print(\"total examples: \", len(filenames))\n",
    "        print(\"File name Example: \", filenames[:5])"
   ]
  },
  {
   "cell_type": "markdown",
   "metadata": {},
   "source": [
    "我们来分析*.txt读取内容，然后获取img.txt\n",
    "\n",
    "首先，我们需要 匹配txt 文件进行输出"
   ]
  },
  {
   "cell_type": "code",
   "execution_count": 6,
   "metadata": {},
   "outputs": [],
   "source": [
    "from glob import glob\n",
    "import os\n",
    "\n",
    "def get_img_info():\n",
    "    data_path_txt = os.path.join(data_path,'*.txt')\n",
    "    txt_file_list = glob(data_path_txt)\n",
    "\n",
    "    # 存储txt 文件\n",
    "    img_path_txt = 'img.txt'\n",
    "    img_path_list = []\n",
    "    img_label_dict = dict()# <标签，次数> \n",
    "    img_name2label_dict = {}\n",
    "    for file_path in txt_file_list:\n",
    "        with open(file_path,'r') as f:\n",
    "            line = f.readline()\n",
    "        \n",
    "        line = line.strip()\n",
    "        img_name = line.split(',')[0]\n",
    "        img_label = line.split(',')[1]\n",
    "        img_label = int(img_label.strip())\n",
    "        # 图片路径＋标签\n",
    "        img_name_path = os.path.join(base_path,'garbage_classify/train_data/{}'.format(img_name))\n",
    "        img_path_list.append( \n",
    "            {'img_name_path':img_name_path,\n",
    "             'img_label':img_label})\n",
    "    return img_path_list"
   ]
  },
  {
   "cell_type": "code",
   "execution_count": 7,
   "metadata": {},
   "outputs": [
    {
     "name": "stdout",
     "output_type": "stream",
     "text": [
      "img_path_list =  [{'img_name_path': '../data/garbage_classify/train_data/img_1.jpg', 'img_label': 0}, {'img_name_path': '../data/garbage_classify/train_data/img_10.jpg', 'img_label': 0}, {'img_name_path': '../data/garbage_classify/train_data/img_100.jpg', 'img_label': 0}, {'img_name_path': '../data/garbage_classify/train_data/img_1000.jpg', 'img_label': 2}, {'img_name_path': '../data/garbage_classify/train_data/img_10000.jpg', 'img_label': 21}, {'img_name_path': '../data/garbage_classify/train_data/img_10001.jpg', 'img_label': 21}, {'img_name_path': '../data/garbage_classify/train_data/img_10002.jpg', 'img_label': 21}, {'img_name_path': '../data/garbage_classify/train_data/img_10003.jpg', 'img_label': 21}, {'img_name_path': '../data/garbage_classify/train_data/img_10005.jpg', 'img_label': 21}, {'img_name_path': '../data/garbage_classify/train_data/img_10006.jpg', 'img_label': 21}]\n"
     ]
    }
   ],
   "source": [
    "print('img_path_list = ',get_img_info()[:10])"
   ]
  },
  {
   "cell_type": "code",
   "execution_count": 8,
   "metadata": {},
   "outputs": [
    {
     "name": "stdout",
     "output_type": "stream",
     "text": [
      "img_path_list =  [{'img_name_path': '../data/garbage_classify/train_data/img_1.jpg', 'img_label': 0}, {'img_name_path': '../data/garbage_classify/train_data/img_10.jpg', 'img_label': 0}, {'img_name_path': '../data/garbage_classify/train_data/img_100.jpg', 'img_label': 0}]\n",
      "img_label_dict =  {0: 1652, 2: 8611, 3: 1150, 1: 3389}\n"
     ]
    }
   ],
   "source": [
    "# 对img_path_list 的img_label 进行修改为一级分类的标签\n",
    "img_path_list = []\n",
    "img_label_dict={}\n",
    "for img_info in get_img_info():\n",
    "    img_label = img_info['img_label']# 修正前的标签\n",
    "    img_label = rank_k_v_dict[img_label]\n",
    "    img_info.update({'img_label':img_label}) # 修正后的标签\n",
    "    \n",
    "     # 图片路径＋标签\n",
    "    img_path_list.append(img_info)\n",
    "\n",
    "    # 统计每个标签出现次数\n",
    "    img_label = int(img_label)\n",
    "    img_label_count = img_label_dict.get(img_label,0)\n",
    "    if img_label_count:\n",
    "        img_label_dict[img_label] = img_label_count + 1\n",
    "    else:\n",
    "        img_label_dict[img_label] = 1\n",
    "\n",
    "\n",
    "print('img_path_list = ',img_path_list[:3])\n",
    "print('img_label_dict = ',img_label_dict)"
   ]
  },
  {
   "cell_type": "markdown",
   "metadata": {},
   "source": [
    "## 数据不同类别分布"
   ]
  },
  {
   "cell_type": "markdown",
   "metadata": {},
   "source": [
    "我们这里通过柱状图 来分析不同类别分布情况，我们使用pyecharts 这种效果非常棒的工具来展示"
   ]
  },
  {
   "cell_type": "markdown",
   "metadata": {},
   "source": [
    "x 轴数据： 标签名称\n",
    "\n",
    "y 轴数据： 标签名称对应次数"
   ]
  },
  {
   "cell_type": "markdown",
   "metadata": {},
   "source": [
    "首先我们 img_label_dict 按照key 进行排序，这样方便查看数据"
   ]
  },
  {
   "cell_type": "code",
   "execution_count": 9,
   "metadata": {},
   "outputs": [
    {
     "name": "stdout",
     "output_type": "stream",
     "text": [
      "{0: 1652, 1: 3389, 2: 8611, 3: 1150}\n",
      "{'0': '其他垃圾', '1': '厨余垃圾', '2': '可回收物', '3': '有害垃圾'}\n",
      "['其他垃圾', '厨余垃圾', '可回收物', '有害垃圾']\n",
      "[1652, 3389, 8611, 1150]\n"
     ]
    }
   ],
   "source": [
    "img_label_dict = dict(sorted(img_label_dict.items()))\n",
    "print(img_label_dict)\n",
    "print(garbage_classify_index)\n",
    "print([garbage_classify_index[str(k)] for k in img_label_dict.keys()])\n",
    "print(list(img_label_dict.values()))"
   ]
  },
  {
   "cell_type": "code",
   "execution_count": 10,
   "metadata": {},
   "outputs": [
    {
     "data": {
      "text/html": [
       "<script>\n",
       "    require.config({\n",
       "        paths: {\n",
       "            'echarts':'https://assets.pyecharts.org/assets/echarts.min'\n",
       "        }\n",
       "    });\n",
       "</script>\n",
       "\n",
       "    <div id=\"16d410a6aba24134afc85c3b0e48aca4\" style=\"width:900px; height:500px;\"></div>\n",
       "\n",
       "\n",
       "<script>\n",
       "    require(['echarts'], function(echarts) {\n",
       "        var chart_16d410a6aba24134afc85c3b0e48aca4 = echarts.init(\n",
       "            document.getElementById('16d410a6aba24134afc85c3b0e48aca4'), 'white', {renderer: 'canvas'});\n",
       "        var option_16d410a6aba24134afc85c3b0e48aca4 = {\n",
       "    \"color\": [\n",
       "        \"#c23531\",\n",
       "        \"#2f4554\",\n",
       "        \"#61a0a8\",\n",
       "        \"#d48265\",\n",
       "        \"#749f83\",\n",
       "        \"#ca8622\",\n",
       "        \"#bda29a\",\n",
       "        \"#6e7074\",\n",
       "        \"#546570\",\n",
       "        \"#c4ccd3\",\n",
       "        \"#f05b72\",\n",
       "        \"#ef5b9c\",\n",
       "        \"#f47920\",\n",
       "        \"#905a3d\",\n",
       "        \"#fab27b\",\n",
       "        \"#2a5caa\",\n",
       "        \"#444693\",\n",
       "        \"#726930\",\n",
       "        \"#b2d235\",\n",
       "        \"#6d8346\",\n",
       "        \"#ac6767\",\n",
       "        \"#1d953f\",\n",
       "        \"#6950a1\",\n",
       "        \"#918597\"\n",
       "    ],\n",
       "    \"series\": [\n",
       "        {\n",
       "            \"type\": \"bar\",\n",
       "            \"data\": [\n",
       "                1652,\n",
       "                3389,\n",
       "                8611,\n",
       "                1150\n",
       "            ],\n",
       "            \"barCategoryGap\": \"20%\",\n",
       "            \"label\": {\n",
       "                \"show\": true,\n",
       "                \"position\": \"top\",\n",
       "                \"margin\": 8\n",
       "            }\n",
       "        }\n",
       "    ],\n",
       "    \"legend\": [\n",
       "        {\n",
       "            \"data\": [\n",
       "                \"\"\n",
       "            ],\n",
       "            \"selected\": {\n",
       "                \"\": true\n",
       "            },\n",
       "            \"show\": true\n",
       "        }\n",
       "    ],\n",
       "    \"tooltip\": {\n",
       "        \"show\": true,\n",
       "        \"trigger\": \"item\",\n",
       "        \"triggerOn\": \"mousemove|click\",\n",
       "        \"axisPointer\": {\n",
       "            \"type\": \"line\"\n",
       "        },\n",
       "        \"textStyle\": {\n",
       "            \"fontSize\": 14\n",
       "        },\n",
       "        \"borderWidth\": 0\n",
       "    },\n",
       "    \"xAxis\": [\n",
       "        {\n",
       "            \"show\": true,\n",
       "            \"scale\": false,\n",
       "            \"nameLocation\": \"end\",\n",
       "            \"nameGap\": 15,\n",
       "            \"gridIndex\": 0,\n",
       "            \"axisLabel\": {\n",
       "                \"show\": true,\n",
       "                \"position\": \"top\",\n",
       "                \"rotate\": 15,\n",
       "                \"margin\": 8\n",
       "            },\n",
       "            \"inverse\": false,\n",
       "            \"offset\": 0,\n",
       "            \"splitNumber\": 5,\n",
       "            \"minInterval\": 0,\n",
       "            \"splitLine\": {\n",
       "                \"show\": false,\n",
       "                \"lineStyle\": {\n",
       "                    \"width\": 1,\n",
       "                    \"opacity\": 1,\n",
       "                    \"curveness\": 0,\n",
       "                    \"type\": \"solid\"\n",
       "                }\n",
       "            },\n",
       "            \"data\": [\n",
       "                \"\\u5176\\u4ed6\\u5783\\u573e\",\n",
       "                \"\\u53a8\\u4f59\\u5783\\u573e\",\n",
       "                \"\\u53ef\\u56de\\u6536\\u7269\",\n",
       "                \"\\u6709\\u5bb3\\u5783\\u573e\"\n",
       "            ]\n",
       "        }\n",
       "    ],\n",
       "    \"yAxis\": [\n",
       "        {\n",
       "            \"show\": true,\n",
       "            \"scale\": false,\n",
       "            \"nameLocation\": \"end\",\n",
       "            \"nameGap\": 15,\n",
       "            \"gridIndex\": 0,\n",
       "            \"inverse\": false,\n",
       "            \"offset\": 0,\n",
       "            \"splitNumber\": 5,\n",
       "            \"minInterval\": 0,\n",
       "            \"splitLine\": {\n",
       "                \"show\": false,\n",
       "                \"lineStyle\": {\n",
       "                    \"width\": 1,\n",
       "                    \"opacity\": 1,\n",
       "                    \"curveness\": 0,\n",
       "                    \"type\": \"solid\"\n",
       "                }\n",
       "            }\n",
       "        }\n",
       "    ],\n",
       "    \"title\": [\n",
       "        {\n",
       "            \"text\": \"\\u5783\\u573e\\u5206\\u7c7b 4\\u7c7b\\u5783\\u573e\\u6570\\u91cf\\u7edf\\u8ba1\"\n",
       "        }\n",
       "    ]\n",
       "};\n",
       "        chart_16d410a6aba24134afc85c3b0e48aca4.setOption(option_16d410a6aba24134afc85c3b0e48aca4);\n",
       "    });\n",
       "</script>\n"
      ],
      "text/plain": [
       "<pyecharts.render.display.HTML at 0x103563240>"
      ]
     },
     "execution_count": 10,
     "metadata": {},
     "output_type": "execute_result"
    }
   ],
   "source": [
    "# 导入库\n",
    "from pyecharts import  options as opts\n",
    "from pyecharts.charts import Bar\n",
    "\n",
    "# 构建满足pyecharts 格式数据\n",
    "x = [garbage_classify_index[str(k)] for k in img_label_dict.keys()]\n",
    "y = list(img_label_dict.values())\n",
    "\n",
    "# 创建Bar 示例对象，同时x，y轴数据填充\n",
    "bar = Bar()\n",
    "\n",
    "bar.add_xaxis(xaxis_data=x)\n",
    "bar.add_yaxis(series_name='',yaxis_data=y)\n",
    "\n",
    "# 设置全局参数\n",
    "bar.set_global_opts(\n",
    "    title_opts=opts.TitleOpts(title='垃圾分类 4类垃圾数量统计'),\n",
    "    xaxis_opts=opts.AxisOpts(axislabel_opts=opts.LabelOpts(rotate=15))\n",
    ")\n",
    "\n",
    "# 展示图表\n",
    "bar.render()\n",
    "bar.render_notebook()"
   ]
  },
  {
   "cell_type": "markdown",
   "metadata": {},
   "source": [
    "数据分析，可以得出一下的结论：\n",
    "\n",
    "1. 公共4 个分类，如上图分析Bar 图所示\n",
    "\n",
    "2. 较少数据为其他垃圾\n",
    "\n",
    "3. 较多的数据类别可以回收的垃圾\n",
    "\n",
    "\n",
    "我们的模型通过深度学习的迁移模型来完成，小数据量的样本也可以达到很好的效果，这些数据可以直接参与模型的训练输入"
   ]
  },
  {
   "cell_type": "markdown",
   "metadata": {},
   "source": [
    "# 切分训练集和测试集"
   ]
  },
  {
   "cell_type": "code",
   "execution_count": 11,
   "metadata": {},
   "outputs": [
    {
     "data": {
      "text/plain": [
       "14802"
      ]
     },
     "execution_count": 11,
     "metadata": {},
     "output_type": "execute_result"
    }
   ],
   "source": [
    "len(img_path_list)"
   ]
  },
  {
   "cell_type": "code",
   "execution_count": 12,
   "metadata": {},
   "outputs": [
    {
     "data": {
      "text/plain": [
       "{'img_name_path': '../data/garbage_classify/train_data/img_1.jpg',\n",
       " 'img_label': 0}"
      ]
     },
     "execution_count": 12,
     "metadata": {},
     "output_type": "execute_result"
    }
   ],
   "source": [
    "img_path_list[0]"
   ]
  },
  {
   "cell_type": "code",
   "execution_count": 15,
   "metadata": {},
   "outputs": [
    {
     "name": "stdout",
     "output_type": "stream",
     "text": [
      "train_size= 11841\n",
      "valid_size= 2961\n"
     ]
    }
   ],
   "source": [
    "import random\n",
    "random.shuffle(img_path_list)\n",
    "\n",
    "# 0.8 0.2 切分\n",
    "img_count = len(img_path_list)\n",
    "train_img_list = img_path_list[:int(img_count*0.8)]\n",
    "val_img_list = img_path_list[int(img_count*0.8):]\n",
    "\n",
    "print('train_size=',len(train_img_list))\n",
    "print('valid_size=',len(val_img_list))\n"
   ]
  },
  {
   "cell_type": "markdown",
   "metadata": {},
   "source": [
    "数据切分后，我们生成训练和验证集的数据"
   ]
  },
  {
   "cell_type": "code",
   "execution_count": 19,
   "metadata": {},
   "outputs": [],
   "source": [
    "import shutil\n",
    "\n",
    "# 训练数据处理\n",
    "with open(os.path.join(base_path,'4_garbage-classify-for-pytorch/train.txt'),'w') as f:\n",
    "    for img_dict in train_img_list:\n",
    "        #文本格式数据\n",
    "        img_name_path = img_dict['img_name_path'] # ../data/garbage_classify/img_11674.jpg\n",
    "        img_label = img_dict['img_label']\n",
    "        f.write(\"{}\\t{}\\n\".format(img_name_path,img_label))\n",
    "        # 图片-标签目录\n",
    "        garbage_classify_dir = os.path.join(base_path,'4_garbage-classify-for-pytorch/train/{}'.format(img_label))\n",
    "        #print(garbage_classify_dir)\n",
    "        if not os.path.exists(garbage_classify_dir):\n",
    "            os.makedirs(garbage_classify_dir)\n",
    "        # 拷贝数据到目录下\n",
    "        #print(garbage_classify_dir,img_name_path)\n",
    "        shutil.copy(img_name_path,garbage_classify_dir)\n",
    "            \n",
    "\n",
    "# 验证数据处理\n",
    "with open(os.path.join(base_path,'4_garbage-classify-for-pytorch/val.txt'),'w') as f:\n",
    "    for img_dict in val_img_list:\n",
    "        #文本格式数据\n",
    "        img_name_path = img_dict['img_name_path'] # ../data/garbage_classify/img_11674.jpg\n",
    "        img_label = img_dict['img_label']\n",
    "        f.write(\"{}\\t{}\\n\".format(img_name_path,img_label))\n",
    "        # 图片-标签目录\n",
    "        garbage_classify_dir = os.path.join(base_path,'4_garbage-classify-for-pytorch/val/{}'.format(img_label))\n",
    "        #print(garbage_classify_dir)\n",
    "        if not os.path.exists(garbage_classify_dir):\n",
    "            os.makedirs(garbage_classify_dir)\n",
    "        # 拷贝数据到目录下\n",
    "        #print(garbage_classify_dir,img_name_path)\n",
    "        shutil.copy(img_name_path,garbage_classify_dir)\n",
    "                       "
   ]
  },
  {
   "cell_type": "markdown",
   "metadata": {},
   "source": [
    "数据处理完成后，处理结果就是我们后续需要训练模型的格式了。"
   ]
  },
  {
   "cell_type": "markdown",
   "metadata": {},
   "source": [
    "```\n",
    "├── test\n",
    "│   ├── 0\n",
    "│   ├── 1\n",
    "│   ├── 2\n",
    "│   └── 3\n",
    "└── train\n",
    "    ├── 0\n",
    "    ├── 1\n",
    "    ├── 2\n",
    "    └── 3\n",
    "```"
   ]
  },
  {
   "cell_type": "markdown",
   "metadata": {},
   "source": [
    "最后，我们来分析下。切分后验证集和训练集的分布"
   ]
  },
  {
   "cell_type": "code",
   "execution_count": 20,
   "metadata": {},
   "outputs": [
    {
     "name": "stdout",
     "output_type": "stream",
     "text": [
      "../data/4_garbage-classify-for-pytorch/train.txt\n",
      "../data/4_garbage-classify-for-pytorch/val.txt\n",
      "train_dict =  {0: 1312, 1: 2733, 2: 6871, 3: 925}\n",
      "test_dict =  {0: 340, 1: 656, 2: 1740, 3: 225}\n",
      "garbage_classify_index =  {'0': '其他垃圾', '1': '厨余垃圾', '2': '可回收物', '3': '有害垃圾'}\n"
     ]
    }
   ],
   "source": [
    "train_path = os.path.join(base_path,'4_garbage-classify-for-pytorch/train.txt')\n",
    "test_path = os.path.join(base_path,'4_garbage-classify-for-pytorch/val.txt')\n",
    "print(train_path)\n",
    "print(test_path)\n",
    "\n",
    "\n",
    "def get_label_idx_list(data_path):\n",
    "    label_idx_list = []\n",
    "    import codecs\n",
    "    for line in codecs.open(data_path,'r'):\n",
    "        line = line.strip()\n",
    "        label_idx = line.split('\\t')[1]\n",
    "        label_idx_list.append(int(label_idx))\n",
    "    return label_idx_list\n",
    "\n",
    "\n",
    "from collections import Counter\n",
    "train_dict = dict(Counter(get_label_idx_list(train_path)))\n",
    "test_dict = dict(Counter(get_label_idx_list(test_path)))\n",
    "\n",
    "train_dict = dict(sorted(train_dict.items()))\n",
    "test_dict = dict(sorted(test_dict.items()))\n",
    "\n",
    "print(\"train_dict = \",train_dict)\n",
    "print(\"test_dict = \",test_dict)\n",
    "print('garbage_classify_index = ',garbage_classify_index)"
   ]
  },
  {
   "cell_type": "code",
   "execution_count": 22,
   "metadata": {},
   "outputs": [
    {
     "data": {
      "text/html": [
       "<script>\n",
       "    require.config({\n",
       "        paths: {\n",
       "            'echarts':'https://assets.pyecharts.org/assets/echarts.min'\n",
       "        }\n",
       "    });\n",
       "</script>\n",
       "\n",
       "    <div id=\"f066286ce4b442e5b76b4f12f866784c\" style=\"width:900px; height:500px;\"></div>\n",
       "\n",
       "\n",
       "<script>\n",
       "    require(['echarts'], function(echarts) {\n",
       "        var chart_f066286ce4b442e5b76b4f12f866784c = echarts.init(\n",
       "            document.getElementById('f066286ce4b442e5b76b4f12f866784c'), 'white', {renderer: 'canvas'});\n",
       "        var option_f066286ce4b442e5b76b4f12f866784c = {\n",
       "    \"color\": [\n",
       "        \"#c23531\",\n",
       "        \"#2f4554\",\n",
       "        \"#61a0a8\",\n",
       "        \"#d48265\",\n",
       "        \"#749f83\",\n",
       "        \"#ca8622\",\n",
       "        \"#bda29a\",\n",
       "        \"#6e7074\",\n",
       "        \"#546570\",\n",
       "        \"#c4ccd3\",\n",
       "        \"#f05b72\",\n",
       "        \"#ef5b9c\",\n",
       "        \"#f47920\",\n",
       "        \"#905a3d\",\n",
       "        \"#fab27b\",\n",
       "        \"#2a5caa\",\n",
       "        \"#444693\",\n",
       "        \"#726930\",\n",
       "        \"#b2d235\",\n",
       "        \"#6d8346\",\n",
       "        \"#ac6767\",\n",
       "        \"#1d953f\",\n",
       "        \"#6950a1\",\n",
       "        \"#918597\"\n",
       "    ],\n",
       "    \"series\": [\n",
       "        {\n",
       "            \"type\": \"bar\",\n",
       "            \"name\": \"Train\",\n",
       "            \"data\": [\n",
       "                1312,\n",
       "                2733,\n",
       "                6871,\n",
       "                925\n",
       "            ],\n",
       "            \"barCategoryGap\": \"20%\",\n",
       "            \"label\": {\n",
       "                \"show\": true,\n",
       "                \"position\": \"top\",\n",
       "                \"margin\": 8\n",
       "            }\n",
       "        },\n",
       "        {\n",
       "            \"type\": \"bar\",\n",
       "            \"name\": \"Val\",\n",
       "            \"data\": [\n",
       "                340,\n",
       "                656,\n",
       "                1740,\n",
       "                225\n",
       "            ],\n",
       "            \"barCategoryGap\": \"20%\",\n",
       "            \"label\": {\n",
       "                \"show\": true,\n",
       "                \"position\": \"top\",\n",
       "                \"margin\": 8\n",
       "            }\n",
       "        }\n",
       "    ],\n",
       "    \"legend\": [\n",
       "        {\n",
       "            \"data\": [\n",
       "                \"Train\",\n",
       "                \"Val\"\n",
       "            ],\n",
       "            \"selected\": {\n",
       "                \"Train\": true,\n",
       "                \"Val\": true\n",
       "            },\n",
       "            \"show\": true\n",
       "        }\n",
       "    ],\n",
       "    \"tooltip\": {\n",
       "        \"show\": true,\n",
       "        \"trigger\": \"item\",\n",
       "        \"triggerOn\": \"mousemove|click\",\n",
       "        \"axisPointer\": {\n",
       "            \"type\": \"line\"\n",
       "        },\n",
       "        \"textStyle\": {\n",
       "            \"fontSize\": 14\n",
       "        },\n",
       "        \"borderWidth\": 0\n",
       "    },\n",
       "    \"xAxis\": [\n",
       "        {\n",
       "            \"show\": true,\n",
       "            \"scale\": false,\n",
       "            \"nameLocation\": \"end\",\n",
       "            \"nameGap\": 15,\n",
       "            \"gridIndex\": 0,\n",
       "            \"axisLabel\": {\n",
       "                \"show\": true,\n",
       "                \"position\": \"top\",\n",
       "                \"rotate\": 15,\n",
       "                \"margin\": 8\n",
       "            },\n",
       "            \"inverse\": false,\n",
       "            \"offset\": 0,\n",
       "            \"splitNumber\": 5,\n",
       "            \"minInterval\": 0,\n",
       "            \"splitLine\": {\n",
       "                \"show\": false,\n",
       "                \"lineStyle\": {\n",
       "                    \"width\": 1,\n",
       "                    \"opacity\": 1,\n",
       "                    \"curveness\": 0,\n",
       "                    \"type\": \"solid\"\n",
       "                }\n",
       "            },\n",
       "            \"data\": [\n",
       "                \"0-\\u5176\\u4ed6\\u5783\\u573e\",\n",
       "                \"1-\\u53a8\\u4f59\\u5783\\u573e\",\n",
       "                \"2-\\u53ef\\u56de\\u6536\\u7269\",\n",
       "                \"3-\\u6709\\u5bb3\\u5783\\u573e\"\n",
       "            ]\n",
       "        }\n",
       "    ],\n",
       "    \"yAxis\": [\n",
       "        {\n",
       "            \"show\": true,\n",
       "            \"scale\": false,\n",
       "            \"nameLocation\": \"end\",\n",
       "            \"nameGap\": 15,\n",
       "            \"gridIndex\": 0,\n",
       "            \"inverse\": false,\n",
       "            \"offset\": 0,\n",
       "            \"splitNumber\": 5,\n",
       "            \"minInterval\": 0,\n",
       "            \"splitLine\": {\n",
       "                \"show\": false,\n",
       "                \"lineStyle\": {\n",
       "                    \"width\": 1,\n",
       "                    \"opacity\": 1,\n",
       "                    \"curveness\": 0,\n",
       "                    \"type\": \"solid\"\n",
       "                }\n",
       "            }\n",
       "        }\n",
       "    ],\n",
       "    \"title\": [\n",
       "        {\n",
       "            \"text\": \"\\u5783\\u573e\\u5206\\u7c7b \\u4e0d\\u540c\\u7c7b\\u522b\\u6570\\u636e\\u6570\\u91cf\\u7edf\\u8ba1\"\n",
       "        }\n",
       "    ]\n",
       "};\n",
       "        chart_f066286ce4b442e5b76b4f12f866784c.setOption(option_f066286ce4b442e5b76b4f12f866784c);\n",
       "    });\n",
       "</script>\n"
      ],
      "text/plain": [
       "<pyecharts.render.display.HTML at 0x105657f28>"
      ]
     },
     "execution_count": 22,
     "metadata": {},
     "output_type": "execute_result"
    }
   ],
   "source": [
    "# 导入库\n",
    "from pyecharts import  options as opts\n",
    "from pyecharts.charts import Bar\n",
    "\n",
    "# 构建满足pyecharts 格式数据\n",
    "\n",
    "\n",
    "# 创建Bar 示例对象，同时x，y轴数据填充\n",
    "bar = Bar(init_opts=opts.InitOpts())\n",
    "\n",
    "assert len(train_dict.keys())==len(test_dict.keys())\n",
    "x = [ \"{}-{}\".format(label_idx, garbage_classify_index.get(str(label_idx),\"\"))  \n",
    "     for label_idx in img_label_dict.keys()]\n",
    "\n",
    "bar.add_xaxis(xaxis_data=list(x))\n",
    "bar.add_yaxis(series_name='Train',yaxis_data=list(train_dict.values()))\n",
    "bar.add_yaxis(series_name='Val',yaxis_data=list(test_dict.values()))\n",
    "\n",
    "# 设置全局参数\n",
    "bar.set_global_opts(\n",
    "    title_opts=opts.TitleOpts(title='垃圾分类 不同类别数据数量统计'),\n",
    "    xaxis_opts=opts.AxisOpts(axislabel_opts=opts.LabelOpts(rotate=15))\n",
    ")\n",
    "\n",
    "# 展示图表\n",
    "bar.render('rank1_render.html')\n",
    "bar.render_notebook()"
   ]
  },
  {
   "cell_type": "markdown",
   "metadata": {},
   "source": [
    "# 总结"
   ]
  },
  {
   "cell_type": "markdown",
   "metadata": {},
   "source": [
    "在选择好模型后，后续需要重点从数据层次上下手。\n",
    "\n",
    "* 类别分布不均衡，可以从网站上下载对应的图片数据，用于扩充我们的数据内容\n",
    "* 根据数据大小分布，我们这里把数据resize 操作"
   ]
  },
  {
   "cell_type": "code",
   "execution_count": null,
   "metadata": {},
   "outputs": [],
   "source": []
  }
 ],
 "metadata": {
  "kernelspec": {
   "display_name": "Python 3",
   "language": "python",
   "name": "python3"
  },
  "language_info": {
   "codemirror_mode": {
    "name": "ipython",
    "version": 3
   },
   "file_extension": ".py",
   "mimetype": "text/x-python",
   "name": "python",
   "nbconvert_exporter": "python",
   "pygments_lexer": "ipython3",
   "version": "3.7.2"
  },
  "toc": {
   "base_numbering": 1.0,
   "nav_menu": {},
   "number_sections": true,
   "sideBar": true,
   "skip_h1_title": false,
   "title_cell": "Table of Contents",
   "title_sidebar": "Contents",
   "toc_cell": false,
   "toc_position": {
    "height": "calc(100% - 180px)",
    "left": "10px",
    "top": "150px",
    "width": "232.997px"
   },
   "toc_section_display": true,
   "toc_window_display": false
  }
 },
 "nbformat": 4,
 "nbformat_minor": 2
}
