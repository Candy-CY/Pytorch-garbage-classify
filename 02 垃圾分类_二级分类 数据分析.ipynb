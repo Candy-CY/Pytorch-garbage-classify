{
 "cells": [
  {
   "cell_type": "markdown",
   "metadata": {},
   "source": [
    "# 数据分析概括\n",
    "\n",
    "讲师：沈福利  北京工业大学硕士学位\n",
    "\n",
    "主要目录\n",
    "\n",
    "* 整体数据探测\n",
    "* 分析数据不同类别分布\n",
    "* 分析图片长宽比例分布\n",
    "* 切分数据集和验证集\n",
    "\n",
    "通过本章节学习，大家可以掌握如下知识点 \n",
    "\n",
    "* 掌握 pyecharts ，seaborn 如何快速绘制图表；\n",
    "\n",
    "* 加深python 基本操作，如类似list 列表推导式，dict 类型数据排序，walk 文件遍历操作，glob 文件匹配处理\n",
    "\n",
    "另外：如果大家对python 可视化图表不太熟悉的同学，大家可以学习老师 所讲的课程\n",
    "\n",
    "《Python 数据可视化库 Seaborn》  \n",
    "《Python 数据可视化 pyecharts 实战》"
   ]
  },
  {
   "cell_type": "markdown",
   "metadata": {},
   "source": [
    "# 整体数据探测"
   ]
  },
  {
   "cell_type": "code",
   "execution_count": 11,
   "metadata": {},
   "outputs": [
    {
     "name": "stdout",
     "output_type": "stream",
     "text": [
      "data_path =  ../data/garbage_classify/train_data\n",
      "************************************************************\n",
      "Directory path: ../data/garbage_classify/train_data\n",
      "total examples =  29605\n",
      "file name example: ['.DS_Store', 'img_1.jpg', 'img_1.txt', 'img_10.jpg', 'img_10.txt']\n"
     ]
    }
   ],
   "source": [
    "import os \n",
    "from os import walk\n",
    "\n",
    "base_path = '../data/'\n",
    "data_path = os.path.join(base_path,'garbage_classify/train_data')\n",
    "\n",
    "# 数据路径\n",
    "print('data_path = ',data_path)\n",
    "\n",
    "\n",
    "for (dirpath,dirnames,filenames) in walk(data_path):\n",
    "    print('*' * 60)\n",
    "    \n",
    "    print('Directory path:',dirpath)\n",
    "    print('total examples = ',len(filenames))\n",
    "    print('file name example:',filenames[:5]) # 文件的列表"
   ]
  },
  {
   "cell_type": "markdown",
   "metadata": {},
   "source": [
    "我们需要分析 *.txt 读取内容，然后img.txt\n",
    "\n",
    "首先，我们需要配置.txt 文件进行输出"
   ]
  },
  {
   "cell_type": "code",
   "execution_count": 53,
   "metadata": {},
   "outputs": [],
   "source": [
    "from glob import glob\n",
    "\n",
    "def get_image_info():\n",
    "    \n",
    "    data_path_txt = os.path.join(data_path,'*.txt') # 所有*.txt 文件\n",
    "    txt_file_list = glob(data_path_txt)\n",
    "    \n",
    "    #print(txt_file_list[:2])\n",
    "    \n",
    "    \n",
    "    # 存储txt 文件变量 \n",
    "    img_path_list = []\n",
    "    img_name2label_dict = {}\n",
    "    \n",
    "    img_label_dict = {} # <img_label,img_count>\n",
    "    #读取我们文件的内容\n",
    "    for file_path in txt_file_list:\n",
    "        \n",
    "        # 读取文件内容\n",
    "        with open(file_path,'r') as f:\n",
    "            line = f.readline()\n",
    "            \n",
    "        #print(line)\n",
    "        line = line.strip()\n",
    "        img_name = line.split(',')[0]\n",
    "        img_label = line.split(',')[1]\n",
    "        img_label = int(img_label) \n",
    "        # 文件路径  ../data/garbage_classify/train_data/img_10.jpg\n",
    "        img_name_path = os.path.join(base_path,'garbage_classify/train_data/{}'.format(img_name))\n",
    "        \n",
    "        img_path_list.append({'img_name_path':img_name_path,'img_label':img_label})\n",
    "        \n",
    "        \n",
    "        # 图片名称－标签\n",
    "        img_name2label_dict[img_name] = img_label\n",
    "        \n",
    "        # 统计每个标签出现的次数<img_label,img_count>\n",
    "        img_label_count = img_label_dict.get(img_label,0)\n",
    "        if img_label_count:\n",
    "            img_label_dict[img_label] = img_label_count + 1\n",
    "        else:\n",
    "            img_label_dict[img_label] =1 \n",
    "            \n",
    "    \n",
    "    # 最终返还的结果\n",
    "    return img_path_list,img_label_dict,img_name2label_dict"
   ]
  },
  {
   "cell_type": "code",
   "execution_count": 54,
   "metadata": {},
   "outputs": [
    {
     "name": "stdout",
     "output_type": "stream",
     "text": [
      "img_path_list =  [{'img_name_path': '../data/garbage_classify/train_data/img_1.jpg', 'img_label': 0}, {'img_name_path': '../data/garbage_classify/train_data/img_10.jpg', 'img_label': 0}, {'img_name_path': '../data/garbage_classify/train_data/img_100.jpg', 'img_label': 0}]\n",
      "img_label_dict =  {0: 242, 2: 279, 21: 657, 22: 375, 23: 309, 24: 318, 3: 85, 25: 550, 26: 351, 4: 387, 27: 536, 28: 382, 29: 416, 30: 321, 31: 446, 32: 280, 33: 322, 34: 395, 35: 351, 36: 265, 5: 289, 37: 322, 38: 391, 39: 437, 6: 395, 7: 362, 8: 380, 1: 370, 9: 389, 10: 387, 11: 736, 12: 331, 13: 409, 14: 357, 15: 419, 16: 352, 17: 309, 18: 362, 19: 312, 20: 226}\n",
      "img_label_dict len =  40\n"
     ]
    }
   ],
   "source": [
    "img_path_list,img_label_dict,img_name2label_dict = get_image_info()\n",
    "print('img_path_list = ',img_path_list[:3])\n",
    "print('img_label_dict = ',img_label_dict)\n",
    "print('img_label_dict len = ',len(img_label_dict))\n",
    "#print('img_name2label_dict = ',img_name2label_dict)"
   ]
  },
  {
   "cell_type": "markdown",
   "metadata": {},
   "source": [
    "# 数据不同类别分布¶\n",
    "我们这里通过柱状图 来分析不同类别分布情况，我们使用pyecharts 这种效果非常棒的工具来展示\n",
    "\n",
    "x 轴数据： 标签名称\n",
    "\n",
    "y 轴数据： 标签名称对应次数\n",
    "\n",
    "首先我们 img_label_dict 按照key 进行排序，这样方便查看数据\n",
    "\n",
    "关于pyecharts 实战部分： 《Python 数据可视化 pyecharts 实战》"
   ]
  },
  {
   "cell_type": "code",
   "execution_count": 70,
   "metadata": {},
   "outputs": [
    {
     "name": "stdout",
     "output_type": "stream",
     "text": [
      "Help on built-in function sorted in module builtins:\n",
      "\n",
      "sorted(iterable, /, *, key=None, reverse=False)\n",
      "    Return a new list containing all items from the iterable in ascending order.\n",
      "    \n",
      "    A custom key function can be supplied to customize the sort order, and the\n",
      "    reverse flag can be set to request the result in descending order.\n",
      "\n"
     ]
    }
   ],
   "source": [
    "help(sorted)"
   ]
  },
  {
   "cell_type": "code",
   "execution_count": 74,
   "metadata": {},
   "outputs": [],
   "source": [
    "# 默认情况key 进行排序\n",
    "img_label_dict = dict(sorted(img_label_dict.items()))"
   ]
  },
  {
   "cell_type": "code",
   "execution_count": 77,
   "metadata": {},
   "outputs": [],
   "source": [
    "label_dict = {\n",
    "    \"0\": \"其他垃圾/一次性快餐盒\",\n",
    "    \"1\": \"其他垃圾/污损塑料\",\n",
    "    \"2\": \"其他垃圾/烟蒂\",\n",
    "    \"3\": \"其他垃圾/牙签\",\n",
    "    \"4\": \"其他垃圾/破碎花盆及碟碗\",\n",
    "    \"5\": \"其他垃圾/竹筷\",\n",
    "    \"6\": \"厨余垃圾/剩饭剩菜\",\n",
    "    \"7\": \"厨余垃圾/大骨头\",\n",
    "    \"8\": \"厨余垃圾/水果果皮\",\n",
    "    \"9\": \"厨余垃圾/水果果肉\",\n",
    "    \"10\": \"厨余垃圾/茶叶渣\",\n",
    "    \"11\": \"厨余垃圾/菜叶菜根\",\n",
    "    \"12\": \"厨余垃圾/蛋壳\",\n",
    "    \"13\": \"厨余垃圾/鱼骨\",\n",
    "    \"14\": \"可回收物/充电宝\",\n",
    "    \"15\": \"可回收物/包\",\n",
    "    \"16\": \"可回收物/化妆品瓶\",\n",
    "    \"17\": \"可回收物/塑料玩具\",\n",
    "    \"18\": \"可回收物/塑料碗盆\",\n",
    "    \"19\": \"可回收物/塑料衣架\",\n",
    "    \"20\": \"可回收物/快递纸袋\",\n",
    "    \"21\": \"可回收物/插头电线\",\n",
    "    \"22\": \"可回收物/旧衣服\",\n",
    "    \"23\": \"可回收物/易拉罐\",\n",
    "    \"24\": \"可回收物/枕头\",\n",
    "    \"25\": \"可回收物/毛绒玩具\",\n",
    "    \"26\": \"可回收物/洗发水瓶\",\n",
    "    \"27\": \"可回收物/玻璃杯\",\n",
    "    \"28\": \"可回收物/皮鞋\",\n",
    "    \"29\": \"可回收物/砧板\",\n",
    "    \"30\": \"可回收物/纸板箱\",\n",
    "    \"31\": \"可回收物/调料瓶\",\n",
    "    \"32\": \"可回收物/酒瓶\",\n",
    "    \"33\": \"可回收物/金属食品罐\",\n",
    "    \"34\": \"可回收物/锅\",\n",
    "    \"35\": \"可回收物/食用油桶\",\n",
    "    \"36\": \"可回收物/饮料瓶\",\n",
    "    \"37\": \"有害垃圾/干电池\",\n",
    "    \"38\": \"有害垃圾/软膏\",\n",
    "    \"39\": \"有害垃圾/过期药物\"\n",
    "}"
   ]
  },
  {
   "cell_type": "code",
   "execution_count": 89,
   "metadata": {},
   "outputs": [
    {
     "name": "stdout",
     "output_type": "stream",
     "text": [
      "x =  dict_keys([0, 1, 2, 3, 4, 5, 6, 7, 8, 9, 10, 11, 12, 13, 14, 15, 16, 17, 18, 19, 20, 21, 22, 23, 24, 25, 26, 27, 28, 29, 30, 31, 32, 33, 34, 35, 36, 37, 38, 39])\n",
      "y =  dict_values([242, 370, 279, 85, 387, 289, 395, 362, 380, 389, 387, 736, 331, 409, 357, 419, 352, 309, 362, 312, 226, 657, 375, 309, 318, 550, 351, 536, 382, 416, 321, 446, 280, 322, 395, 351, 265, 322, 391, 437])\n",
      "x =  ['0-其他垃圾/一次性快餐盒', '1-其他垃圾/污损塑料', '2-其他垃圾/烟蒂', '3-其他垃圾/牙签', '4-其他垃圾/破碎花盆及碟碗', '5-其他垃圾/竹筷', '6-厨余垃圾/剩饭剩菜', '7-厨余垃圾/大骨头', '8-厨余垃圾/水果果皮', '9-厨余垃圾/水果果肉', '10-厨余垃圾/茶叶渣', '11-厨余垃圾/菜叶菜根', '12-厨余垃圾/蛋壳', '13-厨余垃圾/鱼骨', '14-可回收物/充电宝', '15-可回收物/包', '16-可回收物/化妆品瓶', '17-可回收物/塑料玩具', '18-可回收物/塑料碗盆', '19-可回收物/塑料衣架', '20-可回收物/快递纸袋', '21-可回收物/插头电线', '22-可回收物/旧衣服', '23-可回收物/易拉罐', '24-可回收物/枕头', '25-可回收物/毛绒玩具', '26-可回收物/洗发水瓶', '27-可回收物/玻璃杯', '28-可回收物/皮鞋', '29-可回收物/砧板', '30-可回收物/纸板箱', '31-可回收物/调料瓶', '32-可回收物/酒瓶', '33-可回收物/金属食品罐', '34-可回收物/锅', '35-可回收物/食用油桶', '36-可回收物/饮料瓶', '37-有害垃圾/干电池', '38-有害垃圾/软膏', '39-有害垃圾/过期药物']\n"
     ]
    }
   ],
   "source": [
    "# 首先，构建数据\n",
    "x = img_label_dict.keys()\n",
    "y = img_label_dict.values()\n",
    "print('x = ',x)\n",
    "print('y = ',y)\n",
    "\n",
    "# 借助python 中列表推导方法\n",
    "x = [\"{}-{}\".format(label_idx,label_dict[str(label_idx)] )\n",
    "     for label_idx in img_label_dict.keys()]\n",
    "\n",
    "print('x = ',x)"
   ]
  },
  {
   "cell_type": "code",
   "execution_count": 94,
   "metadata": {},
   "outputs": [
    {
     "data": {
      "text/html": [
       "<script>\n",
       "    require.config({\n",
       "        paths: {\n",
       "            'echarts':'https://assets.pyecharts.org/assets/echarts.min'\n",
       "        }\n",
       "    });\n",
       "</script>\n",
       "\n",
       "    <div id=\"dff84f4f4e764a1eb7051565b27acc77\" style=\"width:1100px; height:500px;\"></div>\n",
       "\n",
       "\n",
       "<script>\n",
       "    require(['echarts'], function(echarts) {\n",
       "        var chart_dff84f4f4e764a1eb7051565b27acc77 = echarts.init(\n",
       "            document.getElementById('dff84f4f4e764a1eb7051565b27acc77'), 'white', {renderer: 'canvas'});\n",
       "        var option_dff84f4f4e764a1eb7051565b27acc77 = {\n",
       "    \"color\": [\n",
       "        \"#c23531\",\n",
       "        \"#2f4554\",\n",
       "        \"#61a0a8\",\n",
       "        \"#d48265\",\n",
       "        \"#749f83\",\n",
       "        \"#ca8622\",\n",
       "        \"#bda29a\",\n",
       "        \"#6e7074\",\n",
       "        \"#546570\",\n",
       "        \"#c4ccd3\",\n",
       "        \"#f05b72\",\n",
       "        \"#ef5b9c\",\n",
       "        \"#f47920\",\n",
       "        \"#905a3d\",\n",
       "        \"#fab27b\",\n",
       "        \"#2a5caa\",\n",
       "        \"#444693\",\n",
       "        \"#726930\",\n",
       "        \"#b2d235\",\n",
       "        \"#6d8346\",\n",
       "        \"#ac6767\",\n",
       "        \"#1d953f\",\n",
       "        \"#6950a1\",\n",
       "        \"#918597\"\n",
       "    ],\n",
       "    \"series\": [\n",
       "        {\n",
       "            \"type\": \"bar\",\n",
       "            \"data\": [\n",
       "                242,\n",
       "                370,\n",
       "                279,\n",
       "                85,\n",
       "                387,\n",
       "                289,\n",
       "                395,\n",
       "                362,\n",
       "                380,\n",
       "                389,\n",
       "                387,\n",
       "                736,\n",
       "                331,\n",
       "                409,\n",
       "                357,\n",
       "                419,\n",
       "                352,\n",
       "                309,\n",
       "                362,\n",
       "                312,\n",
       "                226,\n",
       "                657,\n",
       "                375,\n",
       "                309,\n",
       "                318,\n",
       "                550,\n",
       "                351,\n",
       "                536,\n",
       "                382,\n",
       "                416,\n",
       "                321,\n",
       "                446,\n",
       "                280,\n",
       "                322,\n",
       "                395,\n",
       "                351,\n",
       "                265,\n",
       "                322,\n",
       "                391,\n",
       "                437\n",
       "            ],\n",
       "            \"barCategoryGap\": \"20%\",\n",
       "            \"label\": {\n",
       "                \"show\": true,\n",
       "                \"position\": \"top\",\n",
       "                \"margin\": 8\n",
       "            }\n",
       "        }\n",
       "    ],\n",
       "    \"legend\": [\n",
       "        {\n",
       "            \"data\": [\n",
       "                \"\"\n",
       "            ],\n",
       "            \"selected\": {\n",
       "                \"\": true\n",
       "            },\n",
       "            \"show\": true\n",
       "        }\n",
       "    ],\n",
       "    \"tooltip\": {\n",
       "        \"show\": true,\n",
       "        \"trigger\": \"item\",\n",
       "        \"triggerOn\": \"mousemove|click\",\n",
       "        \"axisPointer\": {\n",
       "            \"type\": \"line\"\n",
       "        },\n",
       "        \"textStyle\": {\n",
       "            \"fontSize\": 14\n",
       "        },\n",
       "        \"borderWidth\": 0\n",
       "    },\n",
       "    \"xAxis\": [\n",
       "        {\n",
       "            \"show\": true,\n",
       "            \"scale\": false,\n",
       "            \"nameLocation\": \"end\",\n",
       "            \"nameGap\": 15,\n",
       "            \"gridIndex\": 0,\n",
       "            \"axisLabel\": {\n",
       "                \"show\": true,\n",
       "                \"position\": \"top\",\n",
       "                \"rotate\": 15,\n",
       "                \"margin\": 8\n",
       "            },\n",
       "            \"inverse\": false,\n",
       "            \"offset\": 0,\n",
       "            \"splitNumber\": 5,\n",
       "            \"minInterval\": 0,\n",
       "            \"splitLine\": {\n",
       "                \"show\": false,\n",
       "                \"lineStyle\": {\n",
       "                    \"width\": 1,\n",
       "                    \"opacity\": 1,\n",
       "                    \"curveness\": 0,\n",
       "                    \"type\": \"solid\"\n",
       "                }\n",
       "            },\n",
       "            \"data\": [\n",
       "                \"0-\\u5176\\u4ed6\\u5783\\u573e/\\u4e00\\u6b21\\u6027\\u5feb\\u9910\\u76d2\",\n",
       "                \"1-\\u5176\\u4ed6\\u5783\\u573e/\\u6c61\\u635f\\u5851\\u6599\",\n",
       "                \"2-\\u5176\\u4ed6\\u5783\\u573e/\\u70df\\u8482\",\n",
       "                \"3-\\u5176\\u4ed6\\u5783\\u573e/\\u7259\\u7b7e\",\n",
       "                \"4-\\u5176\\u4ed6\\u5783\\u573e/\\u7834\\u788e\\u82b1\\u76c6\\u53ca\\u789f\\u7897\",\n",
       "                \"5-\\u5176\\u4ed6\\u5783\\u573e/\\u7af9\\u7b77\",\n",
       "                \"6-\\u53a8\\u4f59\\u5783\\u573e/\\u5269\\u996d\\u5269\\u83dc\",\n",
       "                \"7-\\u53a8\\u4f59\\u5783\\u573e/\\u5927\\u9aa8\\u5934\",\n",
       "                \"8-\\u53a8\\u4f59\\u5783\\u573e/\\u6c34\\u679c\\u679c\\u76ae\",\n",
       "                \"9-\\u53a8\\u4f59\\u5783\\u573e/\\u6c34\\u679c\\u679c\\u8089\",\n",
       "                \"10-\\u53a8\\u4f59\\u5783\\u573e/\\u8336\\u53f6\\u6e23\",\n",
       "                \"11-\\u53a8\\u4f59\\u5783\\u573e/\\u83dc\\u53f6\\u83dc\\u6839\",\n",
       "                \"12-\\u53a8\\u4f59\\u5783\\u573e/\\u86cb\\u58f3\",\n",
       "                \"13-\\u53a8\\u4f59\\u5783\\u573e/\\u9c7c\\u9aa8\",\n",
       "                \"14-\\u53ef\\u56de\\u6536\\u7269/\\u5145\\u7535\\u5b9d\",\n",
       "                \"15-\\u53ef\\u56de\\u6536\\u7269/\\u5305\",\n",
       "                \"16-\\u53ef\\u56de\\u6536\\u7269/\\u5316\\u5986\\u54c1\\u74f6\",\n",
       "                \"17-\\u53ef\\u56de\\u6536\\u7269/\\u5851\\u6599\\u73a9\\u5177\",\n",
       "                \"18-\\u53ef\\u56de\\u6536\\u7269/\\u5851\\u6599\\u7897\\u76c6\",\n",
       "                \"19-\\u53ef\\u56de\\u6536\\u7269/\\u5851\\u6599\\u8863\\u67b6\",\n",
       "                \"20-\\u53ef\\u56de\\u6536\\u7269/\\u5feb\\u9012\\u7eb8\\u888b\",\n",
       "                \"21-\\u53ef\\u56de\\u6536\\u7269/\\u63d2\\u5934\\u7535\\u7ebf\",\n",
       "                \"22-\\u53ef\\u56de\\u6536\\u7269/\\u65e7\\u8863\\u670d\",\n",
       "                \"23-\\u53ef\\u56de\\u6536\\u7269/\\u6613\\u62c9\\u7f50\",\n",
       "                \"24-\\u53ef\\u56de\\u6536\\u7269/\\u6795\\u5934\",\n",
       "                \"25-\\u53ef\\u56de\\u6536\\u7269/\\u6bdb\\u7ed2\\u73a9\\u5177\",\n",
       "                \"26-\\u53ef\\u56de\\u6536\\u7269/\\u6d17\\u53d1\\u6c34\\u74f6\",\n",
       "                \"27-\\u53ef\\u56de\\u6536\\u7269/\\u73bb\\u7483\\u676f\",\n",
       "                \"28-\\u53ef\\u56de\\u6536\\u7269/\\u76ae\\u978b\",\n",
       "                \"29-\\u53ef\\u56de\\u6536\\u7269/\\u7827\\u677f\",\n",
       "                \"30-\\u53ef\\u56de\\u6536\\u7269/\\u7eb8\\u677f\\u7bb1\",\n",
       "                \"31-\\u53ef\\u56de\\u6536\\u7269/\\u8c03\\u6599\\u74f6\",\n",
       "                \"32-\\u53ef\\u56de\\u6536\\u7269/\\u9152\\u74f6\",\n",
       "                \"33-\\u53ef\\u56de\\u6536\\u7269/\\u91d1\\u5c5e\\u98df\\u54c1\\u7f50\",\n",
       "                \"34-\\u53ef\\u56de\\u6536\\u7269/\\u9505\",\n",
       "                \"35-\\u53ef\\u56de\\u6536\\u7269/\\u98df\\u7528\\u6cb9\\u6876\",\n",
       "                \"36-\\u53ef\\u56de\\u6536\\u7269/\\u996e\\u6599\\u74f6\",\n",
       "                \"37-\\u6709\\u5bb3\\u5783\\u573e/\\u5e72\\u7535\\u6c60\",\n",
       "                \"38-\\u6709\\u5bb3\\u5783\\u573e/\\u8f6f\\u818f\",\n",
       "                \"39-\\u6709\\u5bb3\\u5783\\u573e/\\u8fc7\\u671f\\u836f\\u7269\"\n",
       "            ]\n",
       "        }\n",
       "    ],\n",
       "    \"yAxis\": [\n",
       "        {\n",
       "            \"show\": true,\n",
       "            \"scale\": false,\n",
       "            \"nameLocation\": \"end\",\n",
       "            \"nameGap\": 15,\n",
       "            \"gridIndex\": 0,\n",
       "            \"inverse\": false,\n",
       "            \"offset\": 0,\n",
       "            \"splitNumber\": 5,\n",
       "            \"minInterval\": 0,\n",
       "            \"splitLine\": {\n",
       "                \"show\": false,\n",
       "                \"lineStyle\": {\n",
       "                    \"width\": 1,\n",
       "                    \"opacity\": 1,\n",
       "                    \"curveness\": 0,\n",
       "                    \"type\": \"solid\"\n",
       "                }\n",
       "            }\n",
       "        }\n",
       "    ],\n",
       "    \"title\": [\n",
       "        {\n",
       "            \"text\": \"\\u5783\\u573e\\u5206\\u7c7b \\u4e0d\\u540c\\u7c7b\\u522b\\u6570\\u636e\\u5206\\u5e03\"\n",
       "        }\n",
       "    ]\n",
       "};\n",
       "        chart_dff84f4f4e764a1eb7051565b27acc77.setOption(option_dff84f4f4e764a1eb7051565b27acc77);\n",
       "    });\n",
       "</script>\n"
      ],
      "text/plain": [
       "<pyecharts.render.display.HTML at 0x1081a8cc0>"
      ]
     },
     "execution_count": 94,
     "metadata": {},
     "output_type": "execute_result"
    }
   ],
   "source": [
    "# 通过pyecharts来进行绘制图表\n",
    "\n",
    "## 导入pyecharts 相关库\n",
    "from pyecharts import options as opts\n",
    "from pyecharts.charts import Bar\n",
    "\n",
    "## 构建pyecharts 需要的数据\n",
    "x = list(x)\n",
    "y = list(y)\n",
    "\n",
    "## 创建pyechats 的Bar 示例对象\n",
    "bar = Bar(init_opts=opts.InitOpts(width='1100px',height='500px'))\n",
    "\n",
    "## 填充数据\n",
    "bar.add_xaxis(xaxis_data=x)\n",
    "bar.add_yaxis(series_name='',yaxis_data=y)\n",
    "\n",
    "## 设置一些全局参数\n",
    "bar.set_global_opts(\n",
    "        # 给我们的表增加一个标题\n",
    "        title_opts=opts.TitleOpts(title='垃圾分类 不同类别数据分布'),\n",
    "        # 使得我们的x 轴数据倾斜\n",
    "        xaxis_opts=opts.AxisOpts(axislabel_opts=opts.LabelOpts(rotate = 15) ) \n",
    "    )\n",
    "## 展示我们的图表\n",
    "bar.render_notebook()"
   ]
  },
  {
   "cell_type": "markdown",
   "metadata": {},
   "source": [
    "# 数据长度和高度分布比例"
   ]
  },
  {
   "cell_type": "markdown",
   "metadata": {},
   "source": [
    "Python 如何获取JPG 图片的长度和高度信息？\n",
    "\n",
    "我们通过PIL 中Image 类处理"
   ]
  },
  {
   "cell_type": "code",
   "execution_count": 103,
   "metadata": {},
   "outputs": [
    {
     "name": "stdout",
     "output_type": "stream",
     "text": [
      "pic_file_name =  ../data/garbage_classify/train_data/img_1.jpg\n",
      "img.size =  (800, 575)\n"
     ]
    }
   ],
   "source": [
    "# 导入PIL 库\n",
    "from PIL import Image\n",
    "\n",
    "# 获取一张图片\n",
    "base_path = '../data/'\n",
    "data_path = os.path.join(base_path,'garbage_classify/train_data')\n",
    "pic_file_name = os.path.join(data_path,'img_1.jpg')\n",
    "print('pic_file_name = ',pic_file_name)\n",
    "\n",
    "# 获取长度和高度\n",
    "img = Image.open(pic_file_name)\n",
    "print('img.size = ',img.size)"
   ]
  },
  {
   "cell_type": "markdown",
   "metadata": {},
   "source": [
    "那么，接下来，我们来统计分析一些所有JPG 图片，来获取比例信息"
   ]
  },
  {
   "cell_type": "code",
   "execution_count": 123,
   "metadata": {},
   "outputs": [
    {
     "name": "stdout",
     "output_type": "stream",
     "text": [
      "matched data_path_jpg =  ../data/garbage_classify/train_data/*.jpg\n"
     ]
    },
    {
     "data": {
      "text/plain": [
       "[[1, 800, 575, 1.39, 0], [10, 750, 690, 1.09, 0], [100, 688, 357, 1.93, 0]]"
      ]
     },
     "execution_count": 123,
     "metadata": {},
     "output_type": "execute_result"
    }
   ],
   "source": [
    "from glob import glob\n",
    "import os\n",
    "from PIL import Image\n",
    "data_path_jpg = os.path.join(data_path,'*.jpg')\n",
    "print('matched data_path_jpg = ',data_path_jpg)\n",
    "\n",
    "data_path_list = glob(data_path_jpg)\n",
    "data_list = []\n",
    "\n",
    "for file_path in data_path_list:\n",
    "    #print(file_path)\n",
    "    img = Image.open(file_path)\n",
    "    width = img.size[0]\n",
    "    height = img.size[1]\n",
    "    \n",
    "    ratio = float(\"{:.2f}\".format(width/height))\n",
    "    \n",
    "    img_name = file_path.split('/')[-1]\n",
    "    img_id = img_name.split('.')[0].split('_')[1]\n",
    "    img_label = img_name2label_dict.get(img_name,0)\n",
    "    data_list.append([int(img_id),width,height,ratio,int(img_label)])\n",
    "\n",
    "data_list[:3]"
   ]
  },
  {
   "cell_type": "markdown",
   "metadata": {},
   "source": [
    "首先，我们来分析单变量进行数据分析，这个时候我们直方图来完成。\n",
    "\n",
    "\n",
    "Python 中的seaborn 可视化工具库进行展示"
   ]
  },
  {
   "cell_type": "code",
   "execution_count": 129,
   "metadata": {},
   "outputs": [
    {
     "name": "stdout",
     "output_type": "stream",
     "text": [
      "[1.39, 1.09, 1.93, 0.99, 1.11]\n"
     ]
    }
   ],
   "source": [
    "ratio_list = [ratio[3] for ratio in data_list]\n",
    "\n",
    "print(ratio_list[:5])"
   ]
  },
  {
   "cell_type": "code",
   "execution_count": 131,
   "metadata": {},
   "outputs": [
    {
     "data": {
      "image/png": "[encoded data removed]",
      "text/plain": [
       "<Figure size 432x288 with 1 Axes>"
      ]
     },
     "metadata": {},
     "output_type": "display_data"
    }
   ],
   "source": [
    "# 导入可视化库\n",
    "import seaborn as sns\n",
    "# 导入计算库\n",
    "import numpy as np\n",
    "\n",
    "sns.set()\n",
    "np.random.seed(0)\n",
    "\n",
    "# seaborn 直方图展示\n",
    "ax = sns.distplot(ratio_list) # 告诉我么数据分布（0，2）"
   ]
  },
  {
   "cell_type": "markdown",
   "metadata": {},
   "source": [
    "那么，接下来获取（0，2） 数据，然后查看下效果"
   ]
  },
  {
   "cell_type": "code",
   "execution_count": 132,
   "metadata": {},
   "outputs": [
    {
     "name": "stdout",
     "output_type": "stream",
     "text": [
      "Help on class filter in module builtins:\n",
      "\n",
      "class filter(object)\n",
      " |  filter(function or None, iterable) --> filter object\n",
      " |  \n",
      " |  Return an iterator yielding those items of iterable for which function(item)\n",
      " |  is true. If function is None, return the items that are true.\n",
      " |  \n",
      " |  Methods defined here:\n",
      " |  \n",
      " |  __getattribute__(self, name, /)\n",
      " |      Return getattr(self, name).\n",
      " |  \n",
      " |  __iter__(self, /)\n",
      " |      Implement iter(self).\n",
      " |  \n",
      " |  __next__(self, /)\n",
      " |      Implement next(self).\n",
      " |  \n",
      " |  __reduce__(...)\n",
      " |      Return state information for pickling.\n",
      " |  \n",
      " |  ----------------------------------------------------------------------\n",
      " |  Static methods defined here:\n",
      " |  \n",
      " |  __new__(*args, **kwargs) from builtins.type\n",
      " |      Create and return a new object.  See help(type) for accurate signature.\n",
      "\n"
     ]
    }
   ],
   "source": [
    "# 需要过滤ratio_list 数据，list 类型\n",
    "help(filter)"
   ]
  },
  {
   "cell_type": "code",
   "execution_count": 138,
   "metadata": {},
   "outputs": [
    {
     "name": "stdout",
     "output_type": "stream",
     "text": [
      "14192\n"
     ]
    },
    {
     "data": {
      "image/png": "[encoded data removed]",
      "text/plain": [
       "<Figure size 432x288 with 1 Axes>"
      ]
     },
     "metadata": {},
     "output_type": "display_data"
    }
   ],
   "source": [
    "ratio_list = list(filter(lambda x:x>0.5 and x<=2,ratio_list))\n",
    "print(len(ratio_list))\n",
    "# 导入可视化库\n",
    "import seaborn as sns\n",
    "# 导入计算库\n",
    "import numpy as np\n",
    "\n",
    "sns.set()\n",
    "np.random.seed(0)\n",
    "\n",
    "# seaborn 直方图展示\n",
    "ax = sns.distplot(ratio_list) # 告诉我么数据分布（0，2）"
   ]
  },
  {
   "cell_type": "markdown",
   "metadata": {},
   "source": [
    "从上面内容，我们 数据整体分布（0.5，1.5） 之间。"
   ]
  },
  {
   "cell_type": "markdown",
   "metadata": {},
   "source": [
    "《Python 数据可视化库 Seaborn》"
   ]
  },
  {
   "cell_type": "markdown",
   "metadata": {},
   "source": [
    "# 切分数据集－训练集和验证集"
   ]
  },
  {
   "cell_type": "markdown",
   "metadata": {},
   "source": [
    "对于分类问题，我们需要切分训练数据和验证数据"
   ]
  },
  {
   "cell_type": "code",
   "execution_count": 140,
   "metadata": {},
   "outputs": [
    {
     "data": {
      "text/plain": [
       "[{'img_name_path': '../data/garbage_classify/train_data/img_1.jpg',\n",
       "  'img_label': 0},\n",
       " {'img_name_path': '../data/garbage_classify/train_data/img_10.jpg',\n",
       "  'img_label': 0}]"
      ]
     },
     "execution_count": 140,
     "metadata": {},
     "output_type": "execute_result"
    }
   ],
   "source": [
    "# 原始数据格式\n",
    "img_path_list[:2]"
   ]
  },
  {
   "cell_type": "code",
   "execution_count": 141,
   "metadata": {},
   "outputs": [
    {
     "data": {
      "text/plain": [
       "14802"
      ]
     },
     "execution_count": 141,
     "metadata": {},
     "output_type": "execute_result"
    }
   ],
   "source": [
    "# 原始数据大小\n",
    "len(img_path_list)"
   ]
  },
  {
   "cell_type": "code",
   "execution_count": 147,
   "metadata": {},
   "outputs": [
    {
     "name": "stdout",
     "output_type": "stream",
     "text": [
      "img_count =  14802\n",
      "train_size =  11841\n",
      "train_img_list size =  11841\n",
      "val_img_list size =  2961\n"
     ]
    }
   ],
   "source": [
    "# 原始数据进行shuffle\n",
    "import random \n",
    "random.shuffle(img_path_list)\n",
    "\n",
    "# 数据分布分布 0.8 0.2\n",
    "img_count = len(img_path_list)\n",
    "train_size = int(img_count*0.8)\n",
    "\n",
    "print('img_count = ',img_count)\n",
    "print('train_size = ',train_size)\n",
    "train_img_list = img_path_list[:train_size]\n",
    "val_img_list = img_path_list[train_size:]\n",
    "\n",
    "print('train_img_list size = ',len(train_img_list))\n",
    "print('val_img_list size = ',len(val_img_list))"
   ]
  },
  {
   "cell_type": "markdown",
   "metadata": {},
   "source": [
    "数据切分后，我们就可以生成训练和验证数据了 "
   ]
  },
  {
   "cell_type": "code",
   "execution_count": 156,
   "metadata": {},
   "outputs": [],
   "source": [
    "import shutil\n",
    "# 训练数据的生成\n",
    "\n",
    "with open(os.path.join(base_path,'40_garbage-classify-for-pytorch/train.txt'),'w') as f:\n",
    "    for img_dict in train_img_list:\n",
    "        \n",
    "        # 文本格式数据\n",
    "        img_name_path = img_dict['img_name_path']#'../data/garbage_classify/train_data/img_1.jpg'\n",
    "        img_label = img_dict['img_label']\n",
    "        \n",
    "        f.write(\"{}\\t{}\\n\".format(img_name_path,img_label))\n",
    "        \n",
    "        # 图片－标签目录\n",
    "        garbage_classify_dir = os.path.join(base_path,'40_garbage-classify-for-pytorch/train/{}'.format(img_label))\n",
    "        \n",
    "        ## 目录创建\n",
    "        if not os.path.exists(garbage_classify_dir):\n",
    "            os.makedirs(garbage_classify_dir)\n",
    "        \n",
    "        ## 图片数据进行拷贝\n",
    "        shutil.copy(img_name_path,garbage_classify_dir)\n",
    "\n",
    "# 验证数据的生成\n",
    "with open(os.path.join(base_path,'40_garbage-classify-for-pytorch/val.txt'),'w') as f:\n",
    "    for img_dict in val_img_list:\n",
    "        \n",
    "        # 文本格式数据\n",
    "        img_name_path = img_dict['img_name_path']#'../data/garbage_classify/train_data/img_1.jpg'\n",
    "        img_label = img_dict['img_label']\n",
    "        \n",
    "        f.write(\"{}\\t{}\\n\".format(img_name_path,img_label))\n",
    "        \n",
    "        # 图片－标签目录\n",
    "        garbage_classify_dir = os.path.join(base_path,'40_garbage-classify-for-pytorch/val/{}'.format(img_label))\n",
    "        \n",
    "        ## 目录创建\n",
    "        if not os.path.exists(garbage_classify_dir):\n",
    "            os.makedirs(garbage_classify_dir)\n",
    "        \n",
    "        ## 图片数据进行拷贝\n",
    "        shutil.copy(img_name_path,garbage_classify_dir)\n"
   ]
  },
  {
   "cell_type": "markdown",
   "metadata": {},
   "source": [
    "# 训练数据和验证数据可视化分布"
   ]
  },
  {
   "cell_type": "markdown",
   "metadata": {},
   "source": [
    "目前统计训练和验证数据 <label,count> ,然后统计图表的方式在一张图展示"
   ]
  },
  {
   "cell_type": "code",
   "execution_count": 167,
   "metadata": {},
   "outputs": [
    {
     "name": "stdout",
     "output_type": "stream",
     "text": [
      "train_path =  ../data/40_garbage-classify-for-pytorch/train.txt\n",
      "val_path =  ../data/40_garbage-classify-for-pytorch/val.txt\n",
      "train_dict =  {0: 198, 1: 291, 2: 231, 3: 72, 4: 306, 5: 243, 6: 307, 7: 294, 8: 301, 9: 322, 10: 320, 11: 579, 12: 266, 13: 320, 14: 280, 15: 336, 16: 293, 17: 240, 18: 288, 19: 254, 20: 173, 21: 520, 22: 290, 23: 250, 24: 248, 25: 432, 26: 294, 27: 437, 28: 305, 29: 338, 30: 257, 31: 361, 32: 223, 33: 260, 34: 313, 35: 267, 36: 219, 37: 265, 38: 309, 39: 339}\n",
      "val_dict =  {0: 44, 1: 79, 2: 48, 3: 13, 4: 81, 5: 46, 6: 88, 7: 68, 8: 79, 9: 67, 10: 67, 11: 157, 12: 65, 13: 89, 14: 77, 15: 83, 16: 59, 17: 69, 18: 74, 19: 58, 20: 53, 21: 137, 22: 85, 23: 59, 24: 70, 25: 118, 26: 57, 27: 99, 28: 77, 29: 78, 30: 64, 31: 85, 32: 57, 33: 62, 34: 82, 35: 84, 36: 46, 37: 57, 38: 82, 39: 98}\n"
     ]
    }
   ],
   "source": [
    "import codecs\n",
    "# 获取数据内容\n",
    "train_path = os.path.join(base_path,'40_garbage-classify-for-pytorch/train.txt')\n",
    "val_path = os.path.join(base_path,'40_garbage-classify-for-pytorch/val.txt')\n",
    "print('train_path = ',train_path)\n",
    "print('val_path = ',val_path)\n",
    "\n",
    "# 统计<label,count> \n",
    "def get_label_idx_list(data_path):\n",
    "    label_idx_list = []\n",
    "    \n",
    "    for line in codecs.open(data_path,'r'):\n",
    "        line = line.strip()\n",
    "        label_idx = line.split('\\t')[1]\n",
    "        label_idx_list.append(int(label_idx))\n",
    "    return label_idx_list\n",
    "\n",
    "from collections import Counter\n",
    "\n",
    "## Counter 统计label 出现次数\n",
    "## dict 类别转化\n",
    "##dict 中的key 进行sort asc\n",
    "train_dict = dict(Counter(get_label_idx_list(train_path)))\n",
    "train_dict = dict(sorted(train_dict.items()))\n",
    "\n",
    "\n",
    "val_dict = dict(Counter(get_label_idx_list(val_path)))\n",
    "val_dict = dict(sorted(val_dict.items()))\n",
    "\n",
    "\n",
    "print('train_dict = ',train_dict)\n",
    "print('val_dict = ',val_dict)"
   ]
  },
  {
   "cell_type": "code",
   "execution_count": 185,
   "metadata": {},
   "outputs": [
    {
     "data": {
      "text/html": [
       "<script>\n",
       "    require.config({\n",
       "        paths: {\n",
       "            'echarts':'https://assets.pyecharts.org/assets/echarts.min'\n",
       "        }\n",
       "    });\n",
       "</script>\n",
       "\n",
       "    <div id=\"9eaeca3c84614638a959f39e33ad5770\" style=\"width:1100px; height:500px;\"></div>\n",
       "\n",
       "\n",
       "<script>\n",
       "    require(['echarts'], function(echarts) {\n",
       "        var chart_9eaeca3c84614638a959f39e33ad5770 = echarts.init(\n",
       "            document.getElementById('9eaeca3c84614638a959f39e33ad5770'), 'white', {renderer: 'canvas'});\n",
       "        var option_9eaeca3c84614638a959f39e33ad5770 = {\n",
       "    \"color\": [\n",
       "        \"#c23531\",\n",
       "        \"#2f4554\",\n",
       "        \"#61a0a8\",\n",
       "        \"#d48265\",\n",
       "        \"#749f83\",\n",
       "        \"#ca8622\",\n",
       "        \"#bda29a\",\n",
       "        \"#6e7074\",\n",
       "        \"#546570\",\n",
       "        \"#c4ccd3\",\n",
       "        \"#f05b72\",\n",
       "        \"#ef5b9c\",\n",
       "        \"#f47920\",\n",
       "        \"#905a3d\",\n",
       "        \"#fab27b\",\n",
       "        \"#2a5caa\",\n",
       "        \"#444693\",\n",
       "        \"#726930\",\n",
       "        \"#b2d235\",\n",
       "        \"#6d8346\",\n",
       "        \"#ac6767\",\n",
       "        \"#1d953f\",\n",
       "        \"#6950a1\",\n",
       "        \"#918597\"\n",
       "    ],\n",
       "    \"series\": [\n",
       "        {\n",
       "            \"type\": \"bar\",\n",
       "            \"name\": \"Train\",\n",
       "            \"data\": [\n",
       "                198,\n",
       "                291,\n",
       "                231,\n",
       "                72,\n",
       "                306,\n",
       "                243,\n",
       "                307,\n",
       "                294,\n",
       "                301,\n",
       "                322,\n",
       "                320,\n",
       "                579,\n",
       "                266,\n",
       "                320,\n",
       "                280,\n",
       "                336,\n",
       "                293,\n",
       "                240,\n",
       "                288,\n",
       "                254,\n",
       "                173,\n",
       "                520,\n",
       "                290,\n",
       "                250,\n",
       "                248,\n",
       "                432,\n",
       "                294,\n",
       "                437,\n",
       "                305,\n",
       "                338,\n",
       "                257,\n",
       "                361,\n",
       "                223,\n",
       "                260,\n",
       "                313,\n",
       "                267,\n",
       "                219,\n",
       "                265,\n",
       "                309,\n",
       "                339\n",
       "            ],\n",
       "            \"barCategoryGap\": \"20%\",\n",
       "            \"label\": {\n",
       "                \"show\": true,\n",
       "                \"position\": \"top\",\n",
       "                \"margin\": 8\n",
       "            }\n",
       "        },\n",
       "        {\n",
       "            \"type\": \"bar\",\n",
       "            \"name\": \"Val\",\n",
       "            \"data\": [\n",
       "                44,\n",
       "                79,\n",
       "                48,\n",
       "                13,\n",
       "                81,\n",
       "                46,\n",
       "                88,\n",
       "                68,\n",
       "                79,\n",
       "                67,\n",
       "                67,\n",
       "                157,\n",
       "                65,\n",
       "                89,\n",
       "                77,\n",
       "                83,\n",
       "                59,\n",
       "                69,\n",
       "                74,\n",
       "                58,\n",
       "                53,\n",
       "                137,\n",
       "                85,\n",
       "                59,\n",
       "                70,\n",
       "                118,\n",
       "                57,\n",
       "                99,\n",
       "                77,\n",
       "                78,\n",
       "                64,\n",
       "                85,\n",
       "                57,\n",
       "                62,\n",
       "                82,\n",
       "                84,\n",
       "                46,\n",
       "                57,\n",
       "                82,\n",
       "                98\n",
       "            ],\n",
       "            \"barCategoryGap\": \"20%\",\n",
       "            \"label\": {\n",
       "                \"show\": true,\n",
       "                \"position\": \"top\",\n",
       "                \"margin\": 8\n",
       "            }\n",
       "        }\n",
       "    ],\n",
       "    \"legend\": [\n",
       "        {\n",
       "            \"data\": [\n",
       "                \"Train\",\n",
       "                \"Val\"\n",
       "            ],\n",
       "            \"selected\": {\n",
       "                \"Train\": true,\n",
       "                \"Val\": true\n",
       "            },\n",
       "            \"show\": true\n",
       "        }\n",
       "    ],\n",
       "    \"tooltip\": {\n",
       "        \"show\": true,\n",
       "        \"trigger\": \"item\",\n",
       "        \"triggerOn\": \"mousemove|click\",\n",
       "        \"axisPointer\": {\n",
       "            \"type\": \"line\"\n",
       "        },\n",
       "        \"textStyle\": {\n",
       "            \"fontSize\": 14\n",
       "        },\n",
       "        \"borderWidth\": 0\n",
       "    },\n",
       "    \"xAxis\": [\n",
       "        {\n",
       "            \"show\": true,\n",
       "            \"scale\": false,\n",
       "            \"nameLocation\": \"end\",\n",
       "            \"nameGap\": 15,\n",
       "            \"gridIndex\": 0,\n",
       "            \"axisLabel\": {\n",
       "                \"show\": true,\n",
       "                \"position\": \"top\",\n",
       "                \"rotate\": 15,\n",
       "                \"margin\": 8\n",
       "            },\n",
       "            \"inverse\": false,\n",
       "            \"offset\": 0,\n",
       "            \"splitNumber\": 5,\n",
       "            \"minInterval\": 0,\n",
       "            \"splitLine\": {\n",
       "                \"show\": false,\n",
       "                \"lineStyle\": {\n",
       "                    \"width\": 1,\n",
       "                    \"opacity\": 1,\n",
       "                    \"curveness\": 0,\n",
       "                    \"type\": \"solid\"\n",
       "                }\n",
       "            },\n",
       "            \"data\": [\n",
       "                \"0-\\u5176\\u4ed6\\u5783\\u573e/\\u4e00\\u6b21\\u6027\\u5feb\\u9910\\u76d2\",\n",
       "                \"1-\\u5176\\u4ed6\\u5783\\u573e/\\u6c61\\u635f\\u5851\\u6599\",\n",
       "                \"2-\\u5176\\u4ed6\\u5783\\u573e/\\u70df\\u8482\",\n",
       "                \"3-\\u5176\\u4ed6\\u5783\\u573e/\\u7259\\u7b7e\",\n",
       "                \"4-\\u5176\\u4ed6\\u5783\\u573e/\\u7834\\u788e\\u82b1\\u76c6\\u53ca\\u789f\\u7897\",\n",
       "                \"5-\\u5176\\u4ed6\\u5783\\u573e/\\u7af9\\u7b77\",\n",
       "                \"6-\\u53a8\\u4f59\\u5783\\u573e/\\u5269\\u996d\\u5269\\u83dc\",\n",
       "                \"7-\\u53a8\\u4f59\\u5783\\u573e/\\u5927\\u9aa8\\u5934\",\n",
       "                \"8-\\u53a8\\u4f59\\u5783\\u573e/\\u6c34\\u679c\\u679c\\u76ae\",\n",
       "                \"9-\\u53a8\\u4f59\\u5783\\u573e/\\u6c34\\u679c\\u679c\\u8089\",\n",
       "                \"10-\\u53a8\\u4f59\\u5783\\u573e/\\u8336\\u53f6\\u6e23\",\n",
       "                \"11-\\u53a8\\u4f59\\u5783\\u573e/\\u83dc\\u53f6\\u83dc\\u6839\",\n",
       "                \"12-\\u53a8\\u4f59\\u5783\\u573e/\\u86cb\\u58f3\",\n",
       "                \"13-\\u53a8\\u4f59\\u5783\\u573e/\\u9c7c\\u9aa8\",\n",
       "                \"14-\\u53ef\\u56de\\u6536\\u7269/\\u5145\\u7535\\u5b9d\",\n",
       "                \"15-\\u53ef\\u56de\\u6536\\u7269/\\u5305\",\n",
       "                \"16-\\u53ef\\u56de\\u6536\\u7269/\\u5316\\u5986\\u54c1\\u74f6\",\n",
       "                \"17-\\u53ef\\u56de\\u6536\\u7269/\\u5851\\u6599\\u73a9\\u5177\",\n",
       "                \"18-\\u53ef\\u56de\\u6536\\u7269/\\u5851\\u6599\\u7897\\u76c6\",\n",
       "                \"19-\\u53ef\\u56de\\u6536\\u7269/\\u5851\\u6599\\u8863\\u67b6\",\n",
       "                \"20-\\u53ef\\u56de\\u6536\\u7269/\\u5feb\\u9012\\u7eb8\\u888b\",\n",
       "                \"21-\\u53ef\\u56de\\u6536\\u7269/\\u63d2\\u5934\\u7535\\u7ebf\",\n",
       "                \"22-\\u53ef\\u56de\\u6536\\u7269/\\u65e7\\u8863\\u670d\",\n",
       "                \"23-\\u53ef\\u56de\\u6536\\u7269/\\u6613\\u62c9\\u7f50\",\n",
       "                \"24-\\u53ef\\u56de\\u6536\\u7269/\\u6795\\u5934\",\n",
       "                \"25-\\u53ef\\u56de\\u6536\\u7269/\\u6bdb\\u7ed2\\u73a9\\u5177\",\n",
       "                \"26-\\u53ef\\u56de\\u6536\\u7269/\\u6d17\\u53d1\\u6c34\\u74f6\",\n",
       "                \"27-\\u53ef\\u56de\\u6536\\u7269/\\u73bb\\u7483\\u676f\",\n",
       "                \"28-\\u53ef\\u56de\\u6536\\u7269/\\u76ae\\u978b\",\n",
       "                \"29-\\u53ef\\u56de\\u6536\\u7269/\\u7827\\u677f\",\n",
       "                \"30-\\u53ef\\u56de\\u6536\\u7269/\\u7eb8\\u677f\\u7bb1\",\n",
       "                \"31-\\u53ef\\u56de\\u6536\\u7269/\\u8c03\\u6599\\u74f6\",\n",
       "                \"32-\\u53ef\\u56de\\u6536\\u7269/\\u9152\\u74f6\",\n",
       "                \"33-\\u53ef\\u56de\\u6536\\u7269/\\u91d1\\u5c5e\\u98df\\u54c1\\u7f50\",\n",
       "                \"34-\\u53ef\\u56de\\u6536\\u7269/\\u9505\",\n",
       "                \"35-\\u53ef\\u56de\\u6536\\u7269/\\u98df\\u7528\\u6cb9\\u6876\",\n",
       "                \"36-\\u53ef\\u56de\\u6536\\u7269/\\u996e\\u6599\\u74f6\",\n",
       "                \"37-\\u6709\\u5bb3\\u5783\\u573e/\\u5e72\\u7535\\u6c60\",\n",
       "                \"38-\\u6709\\u5bb3\\u5783\\u573e/\\u8f6f\\u818f\",\n",
       "                \"39-\\u6709\\u5bb3\\u5783\\u573e/\\u8fc7\\u671f\\u836f\\u7269\"\n",
       "            ]\n",
       "        }\n",
       "    ],\n",
       "    \"yAxis\": [\n",
       "        {\n",
       "            \"show\": true,\n",
       "            \"scale\": false,\n",
       "            \"nameLocation\": \"end\",\n",
       "            \"nameGap\": 15,\n",
       "            \"gridIndex\": 0,\n",
       "            \"inverse\": false,\n",
       "            \"offset\": 0,\n",
       "            \"splitNumber\": 5,\n",
       "            \"minInterval\": 0,\n",
       "            \"splitLine\": {\n",
       "                \"show\": false,\n",
       "                \"lineStyle\": {\n",
       "                    \"width\": 1,\n",
       "                    \"opacity\": 1,\n",
       "                    \"curveness\": 0,\n",
       "                    \"type\": \"solid\"\n",
       "                }\n",
       "            }\n",
       "        }\n",
       "    ],\n",
       "    \"title\": [\n",
       "        {\n",
       "            \"text\": \"\\u5783\\u573e\\u5206\\u7c7b Train/Val \\u4e0d\\u540c\\u7c7b\\u522b\\u6570\\u636e\\u5206\\u5e03\"\n",
       "        }\n",
       "    ]\n",
       "};\n",
       "        chart_9eaeca3c84614638a959f39e33ad5770.setOption(option_9eaeca3c84614638a959f39e33ad5770);\n",
       "    });\n",
       "</script>\n"
      ],
      "text/plain": [
       "<pyecharts.render.display.HTML at 0x1a1a31eac8>"
      ]
     },
     "execution_count": 185,
     "metadata": {},
     "output_type": "execute_result"
    }
   ],
   "source": [
    "# 可视化操作\n",
    "from pyecharts import options as opts\n",
    "from pyecharts.charts import Bar\n",
    "\n",
    "# 构建数据\n",
    "\n",
    "## check train == val  keys \n",
    "assert train_dict.keys() == val_dict.keys()\n",
    "\n",
    "\n",
    "# 借助python 中列表推导方法\n",
    "x = [\"{}-{}\".format(label_idx,label_dict[str(label_idx)] )\n",
    "     for label_idx in train_dict.keys()]\n",
    "\n",
    "## train \n",
    "train_y = list(train_dict.values())\n",
    "## val\n",
    "val_y = list(val_dict.values())\n",
    "\n",
    "# 创建Bar示例\n",
    "bar = Bar(init_opts=opts.InitOpts(width='1100px',height='500px'))\n",
    "bar.add_xaxis(xaxis_data=x)\n",
    "bar.add_yaxis(series_name='Train',yaxis_data=train_y)\n",
    "bar.add_yaxis(series_name='Val',yaxis_data=val_y)\n",
    "\n",
    "# 设置全局参数\n",
    "bar.set_global_opts(\n",
    "    title_opts=opts.TitleOpts(title='垃圾分类 Train/Val 不同类别数据分布'),\n",
    "    # 使得我们的x 轴数据倾斜\n",
    "    xaxis_opts=opts.AxisOpts(axislabel_opts=opts.LabelOpts(rotate = 15) ) \n",
    ")\n",
    "\n",
    "# 展示图表\n",
    "bar.render_notebook()"
   ]
  },
  {
   "cell_type": "code",
   "execution_count": null,
   "metadata": {},
   "outputs": [],
   "source": []
  },
  {
   "cell_type": "code",
   "execution_count": null,
   "metadata": {},
   "outputs": [],
   "source": []
  },
  {
   "cell_type": "code",
   "execution_count": null,
   "metadata": {},
   "outputs": [],
   "source": []
  },
  {
   "cell_type": "code",
   "execution_count": null,
   "metadata": {},
   "outputs": [],
   "source": []
  }
 ],
 "metadata": {
  "kernelspec": {
   "display_name": "Python 3",
   "language": "python",
   "name": "python3"
  },
  "language_info": {
   "codemirror_mode": {
    "name": "ipython",
    "version": 3
   },
   "file_extension": ".py",
   "mimetype": "text/x-python",
   "name": "python",
   "nbconvert_exporter": "python",
   "pygments_lexer": "ipython3",
   "version": "3.7.2"
  },
  "toc": {
   "base_numbering": 1.0,
   "nav_menu": {},
   "number_sections": true,
   "sideBar": true,
   "skip_h1_title": false,
   "title_cell": "Table of Contents",
   "title_sidebar": "Contents",
   "toc_cell": false,
   "toc_position": {
    "height": "calc(100% - 180px)",
    "left": "10px",
    "top": "150px",
    "width": "165px"
   },
   "toc_section_display": true,
   "toc_window_display": false
  }
 },
 "nbformat": 4,
 "nbformat_minor": 2
}
